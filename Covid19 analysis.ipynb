{
 "cells": [
  {
   "cell_type": "code",
   "execution_count": 1,
   "metadata": {},
   "outputs": [],
   "source": [
    "import pandas as pd\n",
    "import numpy as np\n",
    "import time\n",
    "from datetime import datetime\n",
    "from time import mktime\n",
    "import matplotlib.pyplot as plt"
   ]
  },
  {
   "cell_type": "code",
   "execution_count": 2,
   "metadata": {},
   "outputs": [
    {
     "data": {
      "text/html": [
       "<div>\n",
       "<style scoped>\n",
       "    .dataframe tbody tr th:only-of-type {\n",
       "        vertical-align: middle;\n",
       "    }\n",
       "\n",
       "    .dataframe tbody tr th {\n",
       "        vertical-align: top;\n",
       "    }\n",
       "\n",
       "    .dataframe thead th {\n",
       "        text-align: right;\n",
       "    }\n",
       "</style>\n",
       "<table border=\"1\" class=\"dataframe\">\n",
       "  <thead>\n",
       "    <tr style=\"text-align: right;\">\n",
       "      <th></th>\n",
       "      <th>location</th>\n",
       "      <th>date</th>\n",
       "      <th>total_cases</th>\n",
       "      <th>total_deaths</th>\n",
       "      <th>gdp_per_capita</th>\n",
       "    </tr>\n",
       "  </thead>\n",
       "  <tbody>\n",
       "    <tr>\n",
       "      <th>0</th>\n",
       "      <td>Afghanistan</td>\n",
       "      <td>2019-12-31</td>\n",
       "      <td>0.0</td>\n",
       "      <td>0.0</td>\n",
       "      <td>1803.987</td>\n",
       "    </tr>\n",
       "    <tr>\n",
       "      <th>1</th>\n",
       "      <td>Afghanistan</td>\n",
       "      <td>2020-01-01</td>\n",
       "      <td>0.0</td>\n",
       "      <td>0.0</td>\n",
       "      <td>1803.987</td>\n",
       "    </tr>\n",
       "    <tr>\n",
       "      <th>2</th>\n",
       "      <td>Afghanistan</td>\n",
       "      <td>2020-01-02</td>\n",
       "      <td>0.0</td>\n",
       "      <td>0.0</td>\n",
       "      <td>1803.987</td>\n",
       "    </tr>\n",
       "    <tr>\n",
       "      <th>3</th>\n",
       "      <td>Afghanistan</td>\n",
       "      <td>2020-01-03</td>\n",
       "      <td>0.0</td>\n",
       "      <td>0.0</td>\n",
       "      <td>1803.987</td>\n",
       "    </tr>\n",
       "    <tr>\n",
       "      <th>4</th>\n",
       "      <td>Afghanistan</td>\n",
       "      <td>2020-01-04</td>\n",
       "      <td>0.0</td>\n",
       "      <td>0.0</td>\n",
       "      <td>1803.987</td>\n",
       "    </tr>\n",
       "    <tr>\n",
       "      <th>...</th>\n",
       "      <td>...</td>\n",
       "      <td>...</td>\n",
       "      <td>...</td>\n",
       "      <td>...</td>\n",
       "      <td>...</td>\n",
       "    </tr>\n",
       "    <tr>\n",
       "      <th>50413</th>\n",
       "      <td>Zimbabwe</td>\n",
       "      <td>2020-10-15</td>\n",
       "      <td>8055.0</td>\n",
       "      <td>231.0</td>\n",
       "      <td>1899.775</td>\n",
       "    </tr>\n",
       "    <tr>\n",
       "      <th>50414</th>\n",
       "      <td>Zimbabwe</td>\n",
       "      <td>2020-10-16</td>\n",
       "      <td>8075.0</td>\n",
       "      <td>231.0</td>\n",
       "      <td>1899.775</td>\n",
       "    </tr>\n",
       "    <tr>\n",
       "      <th>50415</th>\n",
       "      <td>Zimbabwe</td>\n",
       "      <td>2020-10-17</td>\n",
       "      <td>8099.0</td>\n",
       "      <td>231.0</td>\n",
       "      <td>1899.775</td>\n",
       "    </tr>\n",
       "    <tr>\n",
       "      <th>50416</th>\n",
       "      <td>Zimbabwe</td>\n",
       "      <td>2020-10-18</td>\n",
       "      <td>8110.0</td>\n",
       "      <td>231.0</td>\n",
       "      <td>1899.775</td>\n",
       "    </tr>\n",
       "    <tr>\n",
       "      <th>50417</th>\n",
       "      <td>Zimbabwe</td>\n",
       "      <td>2020-10-19</td>\n",
       "      <td>8147.0</td>\n",
       "      <td>231.0</td>\n",
       "      <td>1899.775</td>\n",
       "    </tr>\n",
       "  </tbody>\n",
       "</table>\n",
       "<p>50418 rows × 5 columns</p>\n",
       "</div>"
      ],
      "text/plain": [
       "          location       date  total_cases  total_deaths  gdp_per_capita\n",
       "0      Afghanistan 2019-12-31          0.0           0.0        1803.987\n",
       "1      Afghanistan 2020-01-01          0.0           0.0        1803.987\n",
       "2      Afghanistan 2020-01-02          0.0           0.0        1803.987\n",
       "3      Afghanistan 2020-01-03          0.0           0.0        1803.987\n",
       "4      Afghanistan 2020-01-04          0.0           0.0        1803.987\n",
       "...            ...        ...          ...           ...             ...\n",
       "50413     Zimbabwe 2020-10-15       8055.0         231.0        1899.775\n",
       "50414     Zimbabwe 2020-10-16       8075.0         231.0        1899.775\n",
       "50415     Zimbabwe 2020-10-17       8099.0         231.0        1899.775\n",
       "50416     Zimbabwe 2020-10-18       8110.0         231.0        1899.775\n",
       "50417     Zimbabwe 2020-10-19       8147.0         231.0        1899.775\n",
       "\n",
       "[50418 rows x 5 columns]"
      ]
     },
     "execution_count": 2,
     "metadata": {},
     "output_type": "execute_result"
    }
   ],
   "source": [
    "df = pd.read_csv('raw_data.csv', parse_dates=[2])\n",
    "df_clean = df[['location', 'date', 'total_cases', 'total_deaths', 'gdp_per_capita']]\n",
    "df_clean"
   ]
  },
  {
   "cell_type": "code",
   "execution_count": 3,
   "metadata": {},
   "outputs": [],
   "source": [
    "#como no todos los paises tienen la misma cantidad de valores creo un nuevo dataframe solo con aquellos\n",
    "#que tienen 294 valores que es lo maximo, encontrado con df_clean['location'].value_counts()\n",
    "\n",
    "df2= df_clean[df_clean['location'].apply(lambda x: True if df_clean['location'].value_counts()[x]==294 else False)]"
   ]
  },
  {
   "cell_type": "code",
   "execution_count": 4,
   "metadata": {},
   "outputs": [
    {
     "data": {
      "text/plain": [
       "China             294\n",
       "Croatia           294\n",
       "Czech Republic    294\n",
       "Denmark           294\n",
       "Ecuador           294\n",
       "Israel            294\n",
       "Egypt             294\n",
       "Estonia           294\n",
       "Finland           294\n",
       "France            294\n",
       "Georgia           294\n",
       "Germany           294\n",
       "Greece            294\n",
       "Iceland           294\n",
       "India             294\n",
       "Indonesia         294\n",
       "Iran              294\n",
       "Iraq              294\n",
       "Ireland           294\n",
       "Vietnam           294\n",
       "Name: location, dtype: int64"
      ]
     },
     "execution_count": 4,
     "metadata": {},
     "output_type": "execute_result"
    }
   ],
   "source": [
    "df2['location'].value_counts().tail(20)\n",
    "#quedaron solo 63 paises para analizar"
   ]
  },
  {
   "cell_type": "code",
   "execution_count": 5,
   "metadata": {},
   "outputs": [],
   "source": [
    "#seleccion del pais y el rango de fechas a analizar\n",
    "\n",
    "pais = input('¿Que pais desea ver?').capitalize()\n",
    "desde = time.strptime(input('¿Desde que fecha desea ver? (AAAA-MM-DD) min= 2019-12-31'), '%Y-%m-%d')\n",
    "hasta =  time.strptime(input('¿Hasta que fecha desea ver? (AAAA-MM-DD), max= 2020-10-19'), '%Y-%m-%d')\n",
    "\n",
    "desde = datetime.fromtimestamp(mktime(desde))\n",
    "hasta = datetime.fromtimestamp(mktime(hasta))\n",
    "\n",
    "\n",
    "df_clean2= df2[df2['location']==pais]\n",
    "df_clean2= df_clean2.loc[(df_clean2['date']>=desde) & (df_clean2['date']<=hasta)]\n",
    "df_clean2=df_clean2.fillna(0).reset_index()"
   ]
  },
  {
   "cell_type": "code",
   "execution_count": 7,
   "metadata": {},
   "outputs": [
    {
     "data": {
      "text/plain": [
       "Text(0.5, 0.98, 'Curva de casos y muertes en Italy')"
      ]
     },
     "execution_count": 7,
     "metadata": {},
     "output_type": "execute_result"
    },
    {
     "data": {
      "image/png": "[encoded data removed]",
      "text/plain": [
       "<Figure size 1080x504 with 2 Axes>"
      ]
     },
     "metadata": {
      "needs_background": "light"
     },
     "output_type": "display_data"
    }
   ],
   "source": [
    "fig, axs = plt.subplots(1,2, figsize=(15,7))\n",
    "axs[0].plot(df_clean2['total_cases'])\n",
    "axs[1].plot(df_clean2['total_deaths'], color='red')\n",
    "\n",
    "axs[0].set_ylabel('Total cases')\n",
    "axs[1].set_ylabel('Total deaths')\n",
    "\n",
    "axs[0].set_xlabel('Time (days)')\n",
    "axs[1].set_xlabel('Time (days)')\n",
    "\n",
    "fig.suptitle('Curva de casos y muertes en {}'.format(pais), fontsize=16)"
   ]
  },
  {
   "cell_type": "code",
   "execution_count": 8,
   "metadata": {},
   "outputs": [
    {
     "data": {
      "text/plain": [
       "Text(0.5, 0, 'Time (days)')"
      ]
     },
     "execution_count": 8,
     "metadata": {},
     "output_type": "execute_result"
    },
    {
     "data": {
      "image/png": "[encoded data removed]",
      "text/plain": [
       "<Figure size 1080x504 with 1 Axes>"
      ]
     },
     "metadata": {
      "needs_background": "light"
     },
     "output_type": "display_data"
    }
   ],
   "source": [
    "#estimacion de la derivada para los casos y- (y-1)\n",
    "\n",
    "dc = pd.Series(df_clean2['total_cases'].apply(lambda x: int(x)))[1:].reset_index()['total_cases']\n",
    "dc1 = pd.Series(df_clean2['total_cases'].apply(lambda x: int(x)))[:-1].reset_index()['total_cases']\n",
    "\n",
    "df_clean2['d_cases']= dc-dc1\n",
    "\n",
    "\n",
    "fig, ax = plt.subplots(figsize=(15,7))\n",
    "ax.bar(x=range(len(df_clean2['date'])), height=df_clean2['d_cases']) #daily cases\n",
    "ax.set_ylabel('Daily cases')\n",
    "ax.set_xlabel('Time (days)')"
   ]
  },
  {
   "cell_type": "code",
   "execution_count": 9,
   "metadata": {},
   "outputs": [
    {
     "data": {
      "text/plain": [
       "Text(0.5, 0, 'Time (days)')"
      ]
     },
     "execution_count": 9,
     "metadata": {},
     "output_type": "execute_result"
    },
    {
     "data": {
      "image/png": "[encoded data removed]",
      "text/plain": [
       "<Figure size 1080x504 with 1 Axes>"
      ]
     },
     "metadata": {
      "needs_background": "light"
     },
     "output_type": "display_data"
    }
   ],
   "source": [
    "#casos en base semanal\n",
    "dc = pd.Series(df_clean2['total_cases'].apply(lambda x: int(x)))[7:].reset_index()['total_cases']\n",
    "dc1 = pd.Series(df_clean2['total_cases'].apply(lambda x: int(x)))[:-1].reset_index()['total_cases']\n",
    "\n",
    "df_clean2['d_cases']= dc-dc1\n",
    "\n",
    "\n",
    "fig, ax = plt.subplots(figsize=(15,7))\n",
    "ax.bar(x=range(len(df_clean2['date'])), height=df_clean2['d_cases']) #daily cases\n",
    "ax.set_ylabel('Daily cases')\n",
    "ax.set_xlabel('Time (days)')"
   ]
  },
  {
   "cell_type": "code",
   "execution_count": 10,
   "metadata": {},
   "outputs": [
    {
     "data": {
      "text/plain": [
       "Text(0.5, 0, 'Time (days)')"
      ]
     },
     "execution_count": 10,
     "metadata": {},
     "output_type": "execute_result"
    },
    {
     "data": {
      "image/png": "[encoded data removed]",
      "text/plain": [
       "<Figure size 1080x504 with 1 Axes>"
      ]
     },
     "metadata": {
      "needs_background": "light"
     },
     "output_type": "display_data"
    }
   ],
   "source": [
    "#estimacion de la derivada para las muertes y- (y-1)\n",
    "\n",
    "dc = df_clean2['total_deaths'][1:].reset_index()['total_deaths']\n",
    "dc1 = df_clean2['total_deaths'][:-1].reset_index()['total_deaths']\n",
    "\n",
    "df_clean2['d_deaths']=dc-dc1\n",
    "\n",
    "fig, ax = plt.subplots(figsize=(15,7))\n",
    "ax.bar(x=range(len(df_clean2['date'])), height=df_clean2['d_deaths']) #daily deaths\n",
    "ax.set_ylabel('Daily deaths')\n",
    "ax.set_xlabel('Time (days)')"
   ]
  },
  {
   "cell_type": "code",
   "execution_count": 11,
   "metadata": {},
   "outputs": [
    {
     "data": {
      "text/plain": [
       "Text(0.5, 0, 'Time (days)')"
      ]
     },
     "execution_count": 11,
     "metadata": {},
     "output_type": "execute_result"
    },
    {
     "data": {
      "image/png": "[encoded data removed]",
      "text/plain": [
       "<Figure size 1080x504 with 1 Axes>"
      ]
     },
     "metadata": {
      "needs_background": "light"
     },
     "output_type": "display_data"
    }
   ],
   "source": [
    "# muertes en base semanal\n",
    "\n",
    "dc = df_clean2['total_deaths'][7:].reset_index()['total_deaths']\n",
    "dc1 = df_clean2['total_deaths'][:-1].reset_index()['total_deaths']\n",
    "\n",
    "df_clean2['d_deaths']=dc-dc1\n",
    "\n",
    "fig, ax = plt.subplots(figsize=(15,7))\n",
    "ax.bar(x=range(len(df_clean2['date'])), height=df_clean2['d_deaths']) #daily deaths\n",
    "ax.set_ylabel('Daily deaths')\n",
    "ax.set_xlabel('Time (days)')\n"
   ]
  },
  {
   "cell_type": "code",
   "execution_count": null,
   "metadata": {},
   "outputs": [],
   "source": []
  }
 ],
 "metadata": {
  "kernelspec": {
   "display_name": "Python 3.9.5 64-bit",
   "language": "python",
   "name": "python3"
  },
  "language_info": {
   "codemirror_mode": {
    "name": "ipython",
    "version": 3
   },
   "file_extension": ".py",
   "mimetype": "text/x-python",
   "name": "python",
   "nbconvert_exporter": "python",
   "pygments_lexer": "ipython3",
   "version": "3.9.5"
  },
  "orig_nbformat": 4,
  "vscode": {
   "interpreter": {
    "hash": "e2e1d056c93d2e0c7f36d47c47429372a39daa12ac12bce19e9a21d751d0c921"
   }
  }
 },
 "nbformat": 4,
 "nbformat_minor": 2
}
