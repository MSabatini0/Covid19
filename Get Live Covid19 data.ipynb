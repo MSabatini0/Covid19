{
 "cells": [
  {
   "cell_type": "code",
   "execution_count": 177,
   "metadata": {},
   "outputs": [],
   "source": [
    "import csv\n",
    "from urllib.request import urlopen\n",
    "import urllib.request\n",
    "from bs4 import BeautifulSoup\n",
    "import pandas as pd\n",
    "import matplotlib.pyplot as plt\n",
    "import ssl\n",
    "import re\n",
    "import numpy as np"
   ]
  },
  {
   "cell_type": "code",
   "execution_count": 3,
   "metadata": {},
   "outputs": [
    {
     "name": "stdout",
     "output_type": "stream",
     "text": [
      "200\n",
      "<http.client.HTTPResponse object at 0x000001D53B2CFC70>\n"
     ]
    }
   ],
   "source": [
    "# asi evitamos el error: URLError: <urlopen error [SSL: CERTIFICATE_VERIFY_FAILED] certificate verify failed: certificate has expired (_ssl.c:1129)>\n",
    "def main():\n",
    "    ssl._create_default_https_context = ssl._create_unverified_context\n",
    "    r = urllib.request.urlopen('https://bit.ly/3jpMFRW')\n",
    "    print(r.status)\n",
    "    print(r)\n",
    "\n",
    "\n",
    "if __name__ == '__main__':\n",
    "    main()"
   ]
  },
  {
   "cell_type": "code",
   "execution_count": 105,
   "metadata": {},
   "outputs": [],
   "source": [
    "html = urlopen(\"https://bit.ly/3jpMFRW\")\n",
    "soup = BeautifulSoup(html, \"html.parser\")\n",
    "# table = soup.findAll(\"table\", {\"class\":\"wikitable\"})[0]\n",
    "# rows = table.findAll(\"tr\")"
   ]
  },
  {
   "cell_type": "code",
   "execution_count": 148,
   "metadata": {},
   "outputs": [
    {
     "data": {
      "text/html": [
       "<div>\n",
       "<style scoped>\n",
       "    .dataframe tbody tr th:only-of-type {\n",
       "        vertical-align: middle;\n",
       "    }\n",
       "\n",
       "    .dataframe tbody tr th {\n",
       "        vertical-align: top;\n",
       "    }\n",
       "\n",
       "    .dataframe thead th {\n",
       "        text-align: right;\n",
       "    }\n",
       "</style>\n",
       "<table border=\"1\" class=\"dataframe\">\n",
       "  <thead>\n",
       "    <tr style=\"text-align: right;\">\n",
       "      <th></th>\n",
       "      <th>Location\\n</th>\n",
       "      <th>Cases\\n</th>\n",
       "      <th>Deaths\\n</th>\n",
       "    </tr>\n",
       "  </thead>\n",
       "  <tbody>\n",
       "    <tr>\n",
       "      <th>0</th>\n",
       "      <td>World[a]\\n</td>\n",
       "      <td>561,978,603\\n</td>\n",
       "      <td>6,368,794\\n</td>\n",
       "    </tr>\n",
       "    <tr>\n",
       "      <th>1</th>\n",
       "      <td>European Union[b]\\n</td>\n",
       "      <td>154,893,179\\n</td>\n",
       "      <td>1,110,365\\n</td>\n",
       "    </tr>\n",
       "    <tr>\n",
       "      <th>2</th>\n",
       "      <td>United States\\n</td>\n",
       "      <td>89,521,016\\n</td>\n",
       "      <td>1,023,788\\n</td>\n",
       "    </tr>\n",
       "    <tr>\n",
       "      <th>3</th>\n",
       "      <td>India\\n</td>\n",
       "      <td>43,750,599\\n</td>\n",
       "      <td>525,709\\n</td>\n",
       "    </tr>\n",
       "    <tr>\n",
       "      <th>4</th>\n",
       "      <td>Brazil\\n</td>\n",
       "      <td>33,290,266\\n</td>\n",
       "      <td>675,295\\n</td>\n",
       "    </tr>\n",
       "  </tbody>\n",
       "</table>\n",
       "</div>"
      ],
      "text/plain": [
       "            Location\\n        Cases\\n     Deaths\\n\n",
       "0           World[a]\\n  561,978,603\\n  6,368,794\\n\n",
       "1  European Union[b]\\n  154,893,179\\n  1,110,365\\n\n",
       "2      United States\\n   89,521,016\\n  1,023,788\\n\n",
       "3              India\\n   43,750,599\\n    525,709\\n\n",
       "4             Brazil\\n   33,290,266\\n    675,295\\n"
      ]
     },
     "execution_count": 148,
     "metadata": {},
     "output_type": "execute_result"
    }
   ],
   "source": [
    "with open(\"Dataset.csv\", \"wt+\", newline=\"\") as f:\n",
    "    writer = csv.writer(f)\n",
    "    for i in rows:\n",
    "        row = []\n",
    "        for cell in i.findAll([\"td\", \"th\"]):\n",
    "            row.append(cell.get_text())\n",
    "        writer.writerow(row)\n",
    "\n",
    "data = pd.read_csv(\"Dataset.csv\", encoding='latin-1')#, thousands=',')\n",
    "data= data[['Location\\n', 'Cases\\n', 'Deaths\\n']]\n",
    "data.head()"
   ]
  },
  {
   "cell_type": "code",
   "execution_count": 149,
   "metadata": {},
   "outputs": [
    {
     "data": {
      "text/html": [
       "<div>\n",
       "<style scoped>\n",
       "    .dataframe tbody tr th:only-of-type {\n",
       "        vertical-align: middle;\n",
       "    }\n",
       "\n",
       "    .dataframe tbody tr th {\n",
       "        vertical-align: top;\n",
       "    }\n",
       "\n",
       "    .dataframe thead th {\n",
       "        text-align: right;\n",
       "    }\n",
       "</style>\n",
       "<table border=\"1\" class=\"dataframe\">\n",
       "  <thead>\n",
       "    <tr style=\"text-align: right;\">\n",
       "      <th></th>\n",
       "      <th>Location</th>\n",
       "      <th>Cases</th>\n",
       "      <th>Deaths</th>\n",
       "    </tr>\n",
       "  </thead>\n",
       "  <tbody>\n",
       "    <tr>\n",
       "      <th>0</th>\n",
       "      <td>World[a]\\n</td>\n",
       "      <td>561,978,603\\n</td>\n",
       "      <td>6,368,794\\n</td>\n",
       "    </tr>\n",
       "    <tr>\n",
       "      <th>1</th>\n",
       "      <td>European Union[b]\\n</td>\n",
       "      <td>154,893,179\\n</td>\n",
       "      <td>1,110,365\\n</td>\n",
       "    </tr>\n",
       "    <tr>\n",
       "      <th>2</th>\n",
       "      <td>United States\\n</td>\n",
       "      <td>89,521,016\\n</td>\n",
       "      <td>1,023,788\\n</td>\n",
       "    </tr>\n",
       "    <tr>\n",
       "      <th>3</th>\n",
       "      <td>India\\n</td>\n",
       "      <td>43,750,599\\n</td>\n",
       "      <td>525,709\\n</td>\n",
       "    </tr>\n",
       "    <tr>\n",
       "      <th>4</th>\n",
       "      <td>Brazil\\n</td>\n",
       "      <td>33,290,266\\n</td>\n",
       "      <td>675,295\\n</td>\n",
       "    </tr>\n",
       "    <tr>\n",
       "      <th>...</th>\n",
       "      <td>...</td>\n",
       "      <td>...</td>\n",
       "      <td>...</td>\n",
       "    </tr>\n",
       "    <tr>\n",
       "      <th>211</th>\n",
       "      <td>Macau\\n</td>\n",
       "      <td>727\\n</td>\n",
       "      <td>5\\n</td>\n",
       "    </tr>\n",
       "    <tr>\n",
       "      <th>212</th>\n",
       "      <td>Wallis and Futuna\\n</td>\n",
       "      <td>456\\n</td>\n",
       "      <td>7\\n</td>\n",
       "    </tr>\n",
       "    <tr>\n",
       "      <th>214</th>\n",
       "      <td>Federated States of Micronesia\\n</td>\n",
       "      <td>38\\n</td>\n",
       "      <td>0\\n</td>\n",
       "    </tr>\n",
       "    <tr>\n",
       "      <th>215</th>\n",
       "      <td>Vatican City\\n</td>\n",
       "      <td>29\\n</td>\n",
       "      <td>0\\n</td>\n",
       "    </tr>\n",
       "    <tr>\n",
       "      <th>217</th>\n",
       "      <td>North Korea\\n</td>\n",
       "      <td>1\\n</td>\n",
       "      <td>6\\n</td>\n",
       "    </tr>\n",
       "  </tbody>\n",
       "</table>\n",
       "<p>215 rows × 3 columns</p>\n",
       "</div>"
      ],
      "text/plain": [
       "                             Location          Cases       Deaths\n",
       "0                          World[a]\\n  561,978,603\\n  6,368,794\\n\n",
       "1                 European Union[b]\\n  154,893,179\\n  1,110,365\\n\n",
       "2                     United States\\n   89,521,016\\n  1,023,788\\n\n",
       "3                             India\\n   43,750,599\\n    525,709\\n\n",
       "4                            Brazil\\n   33,290,266\\n    675,295\\n\n",
       "..                                ...            ...          ...\n",
       "211                           Macau\\n          727\\n          5\\n\n",
       "212               Wallis and Futuna\\n          456\\n          7\\n\n",
       "214  Federated States of Micronesia\\n           38\\n          0\\n\n",
       "215                    Vatican City\\n           29\\n          0\\n\n",
       "217                     North Korea\\n            1\\n          6\\n\n",
       "\n",
       "[215 rows x 3 columns]"
      ]
     },
     "execution_count": 149,
     "metadata": {},
     "output_type": "execute_result"
    }
   ],
   "source": [
    "data = data.rename(columns={'Location\\n': 'Location', 'Cases\\n': 'Cases', 'Deaths\\n':'Deaths'}).dropna()\n",
    "data=data.drop([209,213,216])\n",
    "data"
   ]
  },
  {
   "cell_type": "code",
   "execution_count": 188,
   "metadata": {},
   "outputs": [],
   "source": [
    "columns = ['Location', 'Cases', 'Deaths']\n",
    "\n",
    "for column in columns:\n",
    "    data[column]=data[column].apply(lambda x: re.sub(r'\\n', '', str(x)))\n",
    "\n",
    "\n",
    "data['Cases']=data['Cases'].apply(lambda x: str(x).replace(',','')).astype('int')\n",
    "data['Deaths']=data['Deaths'].apply(lambda x: str(x).replace(',','')).astype('int')\n",
    "\n",
    "data=data[2:]"
   ]
  },
  {
   "cell_type": "code",
   "execution_count": 201,
   "metadata": {},
   "outputs": [
    {
     "data": {
      "image/png": "[encoded data removed]",
      "text/plain": [
       "<Figure size 1080x360 with 2 Axes>"
      ]
     },
     "metadata": {
      "needs_background": "light"
     },
     "output_type": "display_data"
    }
   ],
   "source": [
    "fig, ax1 = plt.subplots( figsize=(15,5), sharex=True, constrained_layout=True)\n",
    "\n",
    "ax2=ax1.twinx()\n",
    "width=0.2\n",
    "countries= 20\n",
    "index=np.arange(countries)\n",
    "\n",
    "ax1.bar(index, data['Cases'][:countries], width, color='green', label='Cases')\n",
    "ax2.bar(index+width, data['Deaths'][:countries], width,  color='blue', label='Deaths')\n",
    "\n",
    "ax1.set_ylabel('Cases')\n",
    "ax2.set_ylabel('Daths')\n",
    "\n",
    "ax1.legend(bbox_to_anchor=(0.993, 1))\n",
    "ax2.legend(bbox_to_anchor=(0.999, 0.92))\n",
    "\n",
    "plt.xticks(index+width/2, data['Location'][:countries])\n",
    "ax1.tick_params(axis='x', labelrotation = 45)\n",
    "\n",
    "plt.show()"
   ]
  }
 ],
 "metadata": {
  "kernelspec": {
   "display_name": "Python 3.9.5 64-bit",
   "language": "python",
   "name": "python3"
  },
  "language_info": {
   "codemirror_mode": {
    "name": "ipython",
    "version": 3
   },
   "file_extension": ".py",
   "mimetype": "text/x-python",
   "name": "python",
   "nbconvert_exporter": "python",
   "pygments_lexer": "ipython3",
   "version": "3.9.5"
  },
  "orig_nbformat": 4,
  "vscode": {
   "interpreter": {
    "hash": "e2e1d056c93d2e0c7f36d47c47429372a39daa12ac12bce19e9a21d751d0c921"
   }
  }
 },
 "nbformat": 4,
 "nbformat_minor": 2
}
